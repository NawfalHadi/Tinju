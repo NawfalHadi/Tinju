{
 "cells": [
  {
   "cell_type": "code",
   "execution_count": 58,
   "metadata": {},
   "outputs": [],
   "source": [
    "import pandas as pd\n",
    "import pickle\n",
    "\n",
    "from sklearn.model_selection import train_test_split\n",
    "from sklearn.metrics import accuracy_score # Accuracy metrics \n"
   ]
  },
  {
   "cell_type": "code",
   "execution_count": 59,
   "metadata": {},
   "outputs": [],
   "source": [
    "df = pd.read_csv('Dataset/csv/v4_coords.csv')"
   ]
  },
  {
   "cell_type": "code",
   "execution_count": 60,
   "metadata": {},
   "outputs": [],
   "source": [
    "X = df.drop('class', axis=1) # features\n",
    "y = df['class'] # target value\n",
    "\n",
    "X_train, X_test, y_train, y_test = train_test_split(X, y, test_size=0.15, random_state=1234)"
   ]
  },
  {
   "cell_type": "code",
   "execution_count": 61,
   "metadata": {},
   "outputs": [
    {
     "data": {
      "text/plain": [
       "367    Right_Uppercut\n",
       "69                Jab\n",
       "539              Idle\n",
       "248        Right_Hook\n",
       "415             Guard\n",
       "            ...      \n",
       "171         Left_Hook\n",
       "221         Left_Hook\n",
       "121          Straight\n",
       "464             Guard\n",
       "466             Guard\n",
       "Name: class, Length: 91, dtype: object"
      ]
     },
     "execution_count": 61,
     "metadata": {},
     "output_type": "execute_result"
    }
   ],
   "source": [
    "y_test"
   ]
  },
  {
   "cell_type": "code",
   "execution_count": 62,
   "metadata": {},
   "outputs": [
    {
     "name": "stdout",
     "output_type": "stream",
     "text": [
      "class    0\n",
      "x1       0\n",
      "y1       0\n",
      "z1       0\n",
      "v1       0\n",
      "x2       0\n",
      "y2       0\n",
      "z2       0\n",
      "v2       0\n",
      "x3       0\n",
      "y3       0\n",
      "z3       0\n",
      "v3       0\n",
      "x4       0\n",
      "y4       0\n",
      "z4       0\n",
      "v4       0\n",
      "x5       0\n",
      "y5       0\n",
      "z5       0\n",
      "v5       0\n",
      "x6       0\n",
      "y6       0\n",
      "z6       0\n",
      "v6       0\n",
      "x7       0\n",
      "y7       0\n",
      "z7       0\n",
      "v7       0\n",
      "x8       0\n",
      "y8       0\n",
      "z8       0\n",
      "v8       0\n",
      "x9       0\n",
      "y9       0\n",
      "z9       0\n",
      "v9       0\n",
      "x10      0\n",
      "y10      0\n",
      "z10      0\n",
      "v10      0\n",
      "dtype: int64\n"
     ]
    }
   ],
   "source": [
    "nan_values = df.isna().sum()\n",
    "print(nan_values)"
   ]
  },
  {
   "cell_type": "markdown",
   "metadata": {},
   "source": [
    "# Pipeline of the classfication"
   ]
  },
  {
   "cell_type": "code",
   "execution_count": 63,
   "metadata": {},
   "outputs": [],
   "source": [
    "import matplotlib\n",
    "import matplotlib.pyplot as plt\n",
    "\n",
    "from sklearn.pipeline import make_pipeline \n",
    "from sklearn.preprocessing import StandardScaler \n",
    "from sklearn.metrics import confusion_matrix, ConfusionMatrixDisplay\n",
    "\n",
    "from sklearn.svm import *"
   ]
  },
  {
   "cell_type": "code",
   "execution_count": 64,
   "metadata": {},
   "outputs": [],
   "source": [
    "model = make_pipeline(StandardScaler(), SVC(probability=True)).fit(X_train, y_train)\n",
    "y_probs = model.predict_proba(X_test)"
   ]
  },
  {
   "cell_type": "code",
   "execution_count": 68,
   "metadata": {},
   "outputs": [],
   "source": [
    "version = 4_2\n",
    "with open(f'../Model/v{version}_model.pkl', 'wb') as f:\n",
    "    pickle.dump(model, f)"
   ]
  },
  {
   "cell_type": "code",
   "execution_count": null,
   "metadata": {},
   "outputs": [],
   "source": []
  }
 ],
 "metadata": {
  "kernelspec": {
   "display_name": "Python 3",
   "language": "python",
   "name": "python3"
  },
  "language_info": {
   "codemirror_mode": {
    "name": "ipython",
    "version": 3
   },
   "file_extension": ".py",
   "mimetype": "text/x-python",
   "name": "python",
   "nbconvert_exporter": "python",
   "pygments_lexer": "ipython3",
   "version": "3.11.3"
  }
 },
 "nbformat": 4,
 "nbformat_minor": 2
}
