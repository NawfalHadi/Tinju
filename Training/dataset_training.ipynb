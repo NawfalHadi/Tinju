{
 "cells": [
  {
   "cell_type": "code",
   "execution_count": 1,
   "metadata": {},
   "outputs": [],
   "source": [
    "import pandas as pd\n",
    "import pickle\n",
    "\n",
    "from sklearn.model_selection import train_test_split\n",
    "from sklearn.metrics import accuracy_score # Accuracy metrics \n"
   ]
  },
  {
   "cell_type": "code",
   "execution_count": 2,
   "metadata": {},
   "outputs": [],
   "source": [
    "df = pd.read_csv('Dataset/csv/v1_coords.csv')"
   ]
  },
  {
   "cell_type": "code",
   "execution_count": 3,
   "metadata": {},
   "outputs": [],
   "source": [
    "X = df.drop('class', axis=1) # features\n",
    "y = df['class'] # target value\n",
    "\n",
    "X_train, X_test, y_train, y_test = train_test_split(X, y, test_size=0.15, random_state=1234)"
   ]
  },
  {
   "cell_type": "code",
   "execution_count": 4,
   "metadata": {},
   "outputs": [
    {
     "data": {
      "text/plain": [
       "44            jab\n",
       "7             jab\n",
       "254    uppercut_r\n",
       "223    uppercut_l\n",
       "90       straight\n",
       "91       straight\n",
       "210    uppercut_l\n",
       "162        hook_r\n",
       "335          idle\n",
       "283    uppercut_r\n",
       "43            jab\n",
       "110        hook_l\n",
       "287    uppercut_r\n",
       "179        hook_r\n",
       "59       straight\n",
       "133        hook_l\n",
       "191        hook_r\n",
       "169        hook_r\n",
       "225    uppercut_l\n",
       "54       straight\n",
       "104      straight\n",
       "157        hook_r\n",
       "181        hook_r\n",
       "193        hook_r\n",
       "156        hook_r\n",
       "200        hook_r\n",
       "343          idle\n",
       "274    uppercut_r\n",
       "207    uppercut_l\n",
       "248    uppercut_l\n",
       "92       straight\n",
       "22            jab\n",
       "108        hook_l\n",
       "347          idle\n",
       "295    uppercut_r\n",
       "70       straight\n",
       "168        hook_r\n",
       "205    uppercut_l\n",
       "297    uppercut_r\n",
       "37            jab\n",
       "216    uppercut_l\n",
       "64       straight\n",
       "286    uppercut_r\n",
       "13            jab\n",
       "101      straight\n",
       "71       straight\n",
       "73       straight\n",
       "134        hook_l\n",
       "270    uppercut_r\n",
       "125        hook_l\n",
       "66       straight\n",
       "194        hook_r\n",
       "230    uppercut_l\n",
       "217    uppercut_l\n",
       "Name: class, dtype: object"
      ]
     },
     "execution_count": 4,
     "metadata": {},
     "output_type": "execute_result"
    }
   ],
   "source": [
    "y_test"
   ]
  },
  {
   "cell_type": "code",
   "execution_count": 5,
   "metadata": {},
   "outputs": [
    {
     "name": "stdout",
     "output_type": "stream",
     "text": [
      "class    0\n",
      "x1       0\n",
      "y1       0\n",
      "z1       0\n",
      "v1       0\n",
      "x2       0\n",
      "y2       0\n",
      "z2       0\n",
      "v2       0\n",
      "x3       0\n",
      "y3       0\n",
      "z3       0\n",
      "v3       0\n",
      "x4       0\n",
      "y4       0\n",
      "z4       0\n",
      "v4       0\n",
      "x5       0\n",
      "y5       0\n",
      "z5       0\n",
      "v5       0\n",
      "x6       0\n",
      "y6       0\n",
      "z6       0\n",
      "v6       0\n",
      "x7       0\n",
      "y7       0\n",
      "z7       0\n",
      "v7       0\n",
      "x8       0\n",
      "y8       0\n",
      "z8       0\n",
      "v8       0\n",
      "x9       0\n",
      "y9       0\n",
      "z9       0\n",
      "v9       0\n",
      "x10      0\n",
      "y10      0\n",
      "z10      0\n",
      "v10      0\n",
      "dtype: int64\n"
     ]
    }
   ],
   "source": [
    "nan_values = df.isna().sum()\n",
    "print(nan_values)"
   ]
  },
  {
   "cell_type": "markdown",
   "metadata": {},
   "source": [
    "# Pipeline of the classfication"
   ]
  },
  {
   "cell_type": "code",
   "execution_count": 6,
   "metadata": {},
   "outputs": [],
   "source": [
    "from sklearn.pipeline import make_pipeline \n",
    "from sklearn.preprocessing import StandardScaler \n",
    "\n",
    "from sklearn.svm import *"
   ]
  },
  {
   "cell_type": "code",
   "execution_count": 7,
   "metadata": {},
   "outputs": [
    {
     "data": {
      "text/plain": [
       "array(['jab', 'jab', 'uppercut_r', 'uppercut_l', 'straight', 'hook_r',\n",
       "       'uppercut_l', 'hook_r', 'idle', 'uppercut_r', 'jab', 'hook_l',\n",
       "       'uppercut_r', 'hook_r', 'straight', 'hook_l', 'hook_r', 'hook_r',\n",
       "       'uppercut_l', 'straight', 'straight', 'hook_r', 'hook_r', 'hook_r',\n",
       "       'hook_r', 'hook_r', 'idle', 'uppercut_r', 'uppercut_l',\n",
       "       'uppercut_l', 'straight', 'jab', 'hook_l', 'idle', 'uppercut_r',\n",
       "       'straight', 'hook_r', 'uppercut_l', 'uppercut_r', 'jab',\n",
       "       'uppercut_l', 'straight', 'uppercut_r', 'jab', 'hook_r',\n",
       "       'straight', 'straight', 'hook_l', 'uppercut_r', 'hook_l',\n",
       "       'straight', 'hook_r', 'uppercut_l', 'uppercut_l'], dtype=object)"
      ]
     },
     "execution_count": 7,
     "metadata": {},
     "output_type": "execute_result"
    }
   ],
   "source": [
    "model = make_pipeline(StandardScaler(), SVC(probability=True)).fit(X_train, y_train)\n",
    "model.predict(X_test)"
   ]
  },
  {
   "cell_type": "code",
   "execution_count": 8,
   "metadata": {},
   "outputs": [],
   "source": [
    "version = 1\n",
    "with open(f'../Model/v{version}_model.pkl', 'wb') as f:\n",
    "    pickle.dump(model, f)"
   ]
  },
  {
   "cell_type": "code",
   "execution_count": null,
   "metadata": {},
   "outputs": [],
   "source": []
  }
 ],
 "metadata": {
  "kernelspec": {
   "display_name": "Python 3",
   "language": "python",
   "name": "python3"
  },
  "language_info": {
   "codemirror_mode": {
    "name": "ipython",
    "version": 3
   },
   "file_extension": ".py",
   "mimetype": "text/x-python",
   "name": "python",
   "nbconvert_exporter": "python",
   "pygments_lexer": "ipython3",
   "version": "3.11.3"
  }
 },
 "nbformat": 4,
 "nbformat_minor": 2
}
