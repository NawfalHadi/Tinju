{
 "cells": [
  {
   "cell_type": "code",
   "execution_count": 1,
   "metadata": {},
   "outputs": [],
   "source": [
    "import pandas as pd\n",
    "import pickle\n",
    "\n",
    "from sklearn.model_selection import train_test_split\n",
    "from sklearn.metrics import accuracy_score # Accuracy metrics \n"
   ]
  },
  {
   "cell_type": "code",
   "execution_count": 2,
   "metadata": {},
   "outputs": [],
   "source": [
    "df = pd.read_csv('Dataset/csv/v3_coords.csv')"
   ]
  },
  {
   "cell_type": "code",
   "execution_count": 3,
   "metadata": {},
   "outputs": [],
   "source": [
    "X = df.drop('class', axis=1) # features\n",
    "y = df['class'] # target value\n",
    "\n",
    "X_train, X_test, y_train, y_test = train_test_split(X, y, test_size=0.15, random_state=1234)"
   ]
  },
  {
   "cell_type": "code",
   "execution_count": 4,
   "metadata": {},
   "outputs": [
    {
     "data": {
      "text/plain": [
       "67                Jab\n",
       "417             Guard\n",
       "487              Idle\n",
       "453              Idle\n",
       "112          Straight\n",
       "            ...      \n",
       "400    Right_Uppercut\n",
       "166         Left_Hook\n",
       "402             Guard\n",
       "443             Guard\n",
       "219         Left_Hook\n",
       "Name: class, Length: 76, dtype: object"
      ]
     },
     "execution_count": 4,
     "metadata": {},
     "output_type": "execute_result"
    }
   ],
   "source": [
    "y_test"
   ]
  },
  {
   "cell_type": "code",
   "execution_count": 5,
   "metadata": {},
   "outputs": [
    {
     "name": "stdout",
     "output_type": "stream",
     "text": [
      "class    0\n",
      "x1       0\n",
      "y1       0\n",
      "z1       0\n",
      "v1       0\n",
      "x2       0\n",
      "y2       0\n",
      "z2       0\n",
      "v2       0\n",
      "x3       0\n",
      "y3       0\n",
      "z3       0\n",
      "v3       0\n",
      "x4       0\n",
      "y4       0\n",
      "z4       0\n",
      "v4       0\n",
      "x5       0\n",
      "y5       0\n",
      "z5       0\n",
      "v5       0\n",
      "x6       0\n",
      "y6       0\n",
      "z6       0\n",
      "v6       0\n",
      "x7       0\n",
      "y7       0\n",
      "z7       0\n",
      "v7       0\n",
      "x8       0\n",
      "y8       0\n",
      "z8       0\n",
      "v8       0\n",
      "x9       0\n",
      "y9       0\n",
      "z9       0\n",
      "v9       0\n",
      "x10      0\n",
      "y10      0\n",
      "z10      0\n",
      "v10      0\n",
      "dtype: int64\n"
     ]
    }
   ],
   "source": [
    "nan_values = df.isna().sum()\n",
    "print(nan_values)"
   ]
  },
  {
   "cell_type": "markdown",
   "metadata": {},
   "source": [
    "# Pipeline of the classfication"
   ]
  },
  {
   "cell_type": "code",
   "execution_count": 6,
   "metadata": {},
   "outputs": [],
   "source": [
    "from sklearn.pipeline import make_pipeline \n",
    "from sklearn.preprocessing import StandardScaler \n",
    "\n",
    "from sklearn.svm import *"
   ]
  },
  {
   "cell_type": "code",
   "execution_count": 7,
   "metadata": {},
   "outputs": [
    {
     "data": {
      "text/plain": [
       "array(['Jab', 'Guard', 'Idle', 'Idle', 'Straight', 'Left_Uppercut',\n",
       "       'Left_Hook', 'Jab', 'Jab', 'Idle', 'Right_Hook', 'Idle',\n",
       "       'Left_Uppercut', 'Left_Uppercut', 'Right_Hook', 'Left_Hook',\n",
       "       'Idle', 'Straight', 'Jab', 'Guard', 'Jab', 'Straight',\n",
       "       'Right_Hook', 'Jab', 'Jab', 'Jab', 'Guard', 'Right_Hook',\n",
       "       'Left_Uppercut', 'Idle', 'Guard', 'Right_Uppercut', 'Right_Hook',\n",
       "       'Left_Uppercut', 'Straight', 'Right_Hook', 'Jab', 'Straight',\n",
       "       'Straight', 'Straight', 'Straight', 'Guard', 'Guard', 'Jab',\n",
       "       'Left_Uppercut', 'Guard', 'Guard', 'Left_Uppercut', 'Left_Hook',\n",
       "       'Right_Hook', 'Left_Uppercut', 'Jab', 'Jab', 'Guard', 'Jab',\n",
       "       'Left_Uppercut', 'Right_Uppercut', 'Guard', 'Straight', 'Guard',\n",
       "       'Jab', 'Right_Uppercut', 'Right_Uppercut', 'Idle',\n",
       "       'Right_Uppercut', 'Left_Hook', 'Left_Hook', 'Guard', 'Left_Hook',\n",
       "       'Left_Hook', 'Straight', 'Right_Uppercut', 'Left_Hook', 'Guard',\n",
       "       'Guard', 'Left_Hook'], dtype=object)"
      ]
     },
     "execution_count": 7,
     "metadata": {},
     "output_type": "execute_result"
    }
   ],
   "source": [
    "model = make_pipeline(StandardScaler(), SVC(probability=True)).fit(X_train, y_train)\n",
    "model.predict(X_test)"
   ]
  },
  {
   "cell_type": "code",
   "execution_count": 9,
   "metadata": {},
   "outputs": [],
   "source": [
    "version = 3\n",
    "with open(f'../Model/v{version}_model.pkl', 'wb') as f:\n",
    "    pickle.dump(model, f)"
   ]
  },
  {
   "cell_type": "code",
   "execution_count": null,
   "metadata": {},
   "outputs": [],
   "source": []
  },
  {
   "cell_type": "code",
   "execution_count": null,
   "metadata": {},
   "outputs": [],
   "source": []
  }
 ],
 "metadata": {
  "kernelspec": {
   "display_name": "Python 3",
   "language": "python",
   "name": "python3"
  },
  "language_info": {
   "codemirror_mode": {
    "name": "ipython",
    "version": 3
   },
   "file_extension": ".py",
   "mimetype": "text/x-python",
   "name": "python",
   "nbconvert_exporter": "python",
   "pygments_lexer": "ipython3",
   "version": "3.11.3"
  }
 },
 "nbformat": 4,
 "nbformat_minor": 2
}
