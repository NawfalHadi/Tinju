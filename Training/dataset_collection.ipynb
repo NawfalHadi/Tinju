{
 "cells": [
  {
   "cell_type": "code",
   "execution_count": 1,
   "metadata": {},
   "outputs": [],
   "source": [
    "import cv2\n",
    "import os\n",
    "import time"
   ]
  },
  {
   "cell_type": "code",
   "execution_count": 3,
   "metadata": {},
   "outputs": [],
   "source": [
    "def capture_with_timer(delay, output_folder, picture_taken):\n",
    "    # Open the webcam\n",
    "    cap = cv2.VideoCapture(0)\n",
    "\n",
    "    # Check if the webcam is opened successfully\n",
    "    if not cap.isOpened():\n",
    "        print(\"Error: Couldn't open the webcam\")\n",
    "        return\n",
    "\n",
    "    for count in range(1, picture_taken+1):\n",
    "        print(f\"Capturing image {count}/{picture_taken}...\")\n",
    "        # Display a message to indicate the timer\n",
    "        for i in range(delay, 0, -1):\n",
    "            print(\"Capturing in {} seconds...\".format(i))\n",
    "            time.sleep(1)\n",
    "\n",
    "        # Capture a frame\n",
    "        ret, frame = cap.read()\n",
    "\n",
    "        # Check if the frame is captured successfully\n",
    "        if not ret:\n",
    "            print(\"Error: Couldn't capture frame\")\n",
    "            continue\n",
    "\n",
    "        # Generate a unique filename\n",
    "        timestamp = time.strftime(\"%Y%m%d_%H%M%S\")\n",
    "        filename = os.path.join(output_folder, f\"{timestamp}_{count}.jpg\")\n",
    "\n",
    "        # Save the captured frame\n",
    "        cv2.imwrite(filename, frame)\n",
    "        print(f\"Image {count}/10 saved to {filename}\")\n",
    "\n",
    "    # Release the webcam and close all OpenCV windows\n",
    "    cap.release()\n",
    "    cv2.destroyAllWindows()\n"
   ]
  },
  {
   "cell_type": "code",
   "execution_count": 5,
   "metadata": {},
   "outputs": [
    {
     "name": "stdout",
     "output_type": "stream",
     "text": [
      "Capturing image 1/3...\n",
      "Capturing in 3 seconds...\n",
      "Capturing in 2 seconds...\n",
      "Capturing in 1 seconds...\n",
      "Image 1/10 saved to Dataset/Jab/20241022_162231_1.jpg\n",
      "Capturing image 2/3...\n",
      "Capturing in 3 seconds...\n",
      "Capturing in 2 seconds...\n",
      "Capturing in 1 seconds...\n",
      "Image 2/10 saved to Dataset/Jab/20241022_162234_2.jpg\n",
      "Capturing image 3/3...\n",
      "Capturing in 3 seconds...\n",
      "Capturing in 2 seconds...\n",
      "Capturing in 1 seconds...\n",
      "Image 3/10 saved to Dataset/Jab/20241022_162237_3.jpg\n"
     ]
    }
   ],
   "source": [
    "delay_seconds = 3\n",
    "output_folder = \"Dataset/Jab/\"\n",
    "picture_taken = 3\n",
    "\n",
    "capture_with_timer(delay_seconds, output_folder, picture_taken)"
   ]
  },
  {
   "cell_type": "code",
   "execution_count": null,
   "metadata": {},
   "outputs": [],
   "source": []
  }
 ],
 "metadata": {
  "kernelspec": {
   "display_name": "cuda_12_1_clone",
   "language": "python",
   "name": "python3"
  },
  "language_info": {
   "codemirror_mode": {
    "name": "ipython",
    "version": 3
   },
   "file_extension": ".py",
   "mimetype": "text/x-python",
   "name": "python",
   "nbconvert_exporter": "python",
   "pygments_lexer": "ipython3",
   "version": "3.9.18"
  }
 },
 "nbformat": 4,
 "nbformat_minor": 2
}
