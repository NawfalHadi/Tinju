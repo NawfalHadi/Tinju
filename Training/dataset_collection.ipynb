{
 "cells": [
  {
   "cell_type": "code",
   "execution_count": 40,
   "metadata": {},
   "outputs": [],
   "source": [
    "import cv2\n",
    "import os\n",
    "import time"
   ]
  },
  {
   "cell_type": "code",
   "execution_count": 41,
   "metadata": {},
   "outputs": [],
   "source": [
    "def capture_with_timer(delay, output_folder, picture_taken, pose):\n",
    "    # Ensure the output folder exists\n",
    "    os.makedirs(output_folder, exist_ok=True)\n",
    "\n",
    "    # Count existing files with the given pose prefix\n",
    "    existing_files = [f for f in os.listdir(output_folder) if f.startswith(pose) and f.endswith('.jpg')]\n",
    "    start_count = len(existing_files) + 1  # Start numbering after the existing files\n",
    "\n",
    "    # Open the webcam\n",
    "    cap = cv2.VideoCapture(0)\n",
    "\n",
    "    # Check if the webcam is opened successfully\n",
    "    if not cap.isOpened():\n",
    "        print(\"Error: Couldn't open the webcam\")\n",
    "        return\n",
    "\n",
    "    count = 0  # Image count for this session\n",
    "    while count < picture_taken:\n",
    "        # Read a frame from the webcam\n",
    "        ret, frame = cap.read()\n",
    "\n",
    "        # Check if the frame is captured successfully\n",
    "        if not ret:\n",
    "            print(\"Error: Couldn't capture frame\")\n",
    "            continue\n",
    "\n",
    "        # Add countdown timer overlay\n",
    "        if delay > 0:\n",
    "            for i in range(delay, 0, -1):\n",
    "                ret, frame = cap.read()\n",
    "                if not ret:\n",
    "                    print(\"Error: Couldn't capture frame during countdown\")\n",
    "                    continue\n",
    "                \n",
    "                # Overlay countdown text\n",
    "                cv2.putText(frame, f\"Capturing in {i} seconds...\", (10, 50), \n",
    "                            cv2.FONT_HERSHEY_SIMPLEX, 1, (0, 255, 0), 2, cv2.LINE_AA)\n",
    "                cv2.imshow('Camera Feed', frame)\n",
    "\n",
    "                # Exit if 'q' is pressed\n",
    "                if cv2.waitKey(1) & 0xFF == ord('q'):\n",
    "                    cap.release()\n",
    "                    cv2.destroyAllWindows()\n",
    "                    return\n",
    "                \n",
    "                time.sleep(1)\n",
    "\n",
    "        # Capture and save the image\n",
    "        ret, frame = cap.read()\n",
    "        if not ret:\n",
    "            print(\"Error: Couldn't capture frame\")\n",
    "            continue\n",
    "\n",
    "        # Generate a filename based on the pose and file count\n",
    "        filename = os.path.join(output_folder, f\"{pose}_{start_count + count}.jpg\")\n",
    "        \n",
    "        # Save the captured frame\n",
    "        cv2.imwrite(filename, frame)\n",
    "        print(f\"Image {count + 1}/{picture_taken} saved to {filename}\")\n",
    "\n",
    "        # Show the captured frame briefly\n",
    "        cv2.putText(frame, \"Image Captured!\", (10, 50), \n",
    "                    cv2.FONT_HERSHEY_SIMPLEX, 1, (0, 255, 0), 2, cv2.LINE_AA)\n",
    "        \n",
    "        cv2.putText(frame, f\"Images left: {picture_taken - count}\", (10, 100), \n",
    "                            cv2.FONT_HERSHEY_SIMPLEX, 1, (255, 0, 0), 2, cv2.LINE_AA)\n",
    "        cv2.imshow('Camera Feed', frame)\n",
    "        cv2.waitKey(1000)  # Show for 1 second\n",
    "\n",
    "        # Increment the count\n",
    "        count += 1\n",
    "\n",
    "    # Release the webcam and close all OpenCV windows\n",
    "    cap.release()\n",
    "    cv2.destroyAllWindows()\n"
   ]
  },
  {
   "cell_type": "code",
   "execution_count": 60,
   "metadata": {},
   "outputs": [
    {
     "name": "stdout",
     "output_type": "stream",
     "text": [
      "Image 1/20 saved to Dataset/W_Unguard/Fixed/Guard/Guard_No\\Guard_No_31.jpg\n",
      "Image 2/20 saved to Dataset/W_Unguard/Fixed/Guard/Guard_No\\Guard_No_32.jpg\n",
      "Image 3/20 saved to Dataset/W_Unguard/Fixed/Guard/Guard_No\\Guard_No_33.jpg\n",
      "Image 4/20 saved to Dataset/W_Unguard/Fixed/Guard/Guard_No\\Guard_No_34.jpg\n",
      "Image 5/20 saved to Dataset/W_Unguard/Fixed/Guard/Guard_No\\Guard_No_35.jpg\n",
      "Image 6/20 saved to Dataset/W_Unguard/Fixed/Guard/Guard_No\\Guard_No_36.jpg\n",
      "Image 7/20 saved to Dataset/W_Unguard/Fixed/Guard/Guard_No\\Guard_No_37.jpg\n",
      "Image 8/20 saved to Dataset/W_Unguard/Fixed/Guard/Guard_No\\Guard_No_38.jpg\n",
      "Image 9/20 saved to Dataset/W_Unguard/Fixed/Guard/Guard_No\\Guard_No_39.jpg\n",
      "Image 10/20 saved to Dataset/W_Unguard/Fixed/Guard/Guard_No\\Guard_No_40.jpg\n",
      "Image 11/20 saved to Dataset/W_Unguard/Fixed/Guard/Guard_No\\Guard_No_41.jpg\n",
      "Image 12/20 saved to Dataset/W_Unguard/Fixed/Guard/Guard_No\\Guard_No_42.jpg\n",
      "Image 13/20 saved to Dataset/W_Unguard/Fixed/Guard/Guard_No\\Guard_No_43.jpg\n",
      "Image 14/20 saved to Dataset/W_Unguard/Fixed/Guard/Guard_No\\Guard_No_44.jpg\n",
      "Image 15/20 saved to Dataset/W_Unguard/Fixed/Guard/Guard_No\\Guard_No_45.jpg\n",
      "Image 16/20 saved to Dataset/W_Unguard/Fixed/Guard/Guard_No\\Guard_No_46.jpg\n",
      "Image 17/20 saved to Dataset/W_Unguard/Fixed/Guard/Guard_No\\Guard_No_47.jpg\n",
      "Image 18/20 saved to Dataset/W_Unguard/Fixed/Guard/Guard_No\\Guard_No_48.jpg\n",
      "Image 19/20 saved to Dataset/W_Unguard/Fixed/Guard/Guard_No\\Guard_No_49.jpg\n",
      "Image 20/20 saved to Dataset/W_Unguard/Fixed/Guard/Guard_No\\Guard_No_50.jpg\n"
     ]
    }
   ],
   "source": [
    "# Example Usage\n",
    "time.sleep(3)\n",
    "pose = \"Guard_No\"\n",
    "delay_seconds = 2\n",
    "output_folder = f\"Dataset/W_Unguard/Fixed/Guard/{pose}\"\n",
    "picture_taken = 20\n",
    "\n",
    "capture_with_timer(delay_seconds, output_folder, picture_taken, pose)"
   ]
  },
  {
   "cell_type": "code",
   "execution_count": null,
   "metadata": {},
   "outputs": [],
   "source": []
  }
 ],
 "metadata": {
  "kernelspec": {
   "display_name": "Python 3",
   "language": "python",
   "name": "python3"
  },
  "language_info": {
   "codemirror_mode": {
    "name": "ipython",
    "version": 3
   },
   "file_extension": ".py",
   "mimetype": "text/x-python",
   "name": "python",
   "nbconvert_exporter": "python",
   "pygments_lexer": "ipython3",
   "version": "3.11.3"
  }
 },
 "nbformat": 4,
 "nbformat_minor": 2
}
